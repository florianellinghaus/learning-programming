{
 "cells": [
  {
   "cell_type": "markdown",
   "source": [
    "Zunächst importieren wir die Bibliothek `matplotlib` um Graphen zeichnen zu können. Diese ist eine 3rd Party Library, welche standardmäßig nicht auf dem System installiert wird.\n",
    "\n",
    "Hierfür verwenden wir den Python Package Installer `pip`, welcher mit Hilfe des Befehls `pip install matplotlib` das Paket installieren kann.\n",
    "\n",
    "Jupyter übernimmt diese Aufgabe für uns, weswegen es ausreicht, den Namen (und optional die Version des Pakets) in der Datei `requirements.txt` zu hinterlegen. \n"
   ],
   "metadata": {
    "collapsed": false,
    "pycharm": {
     "name": "#%% md\n"
    }
   }
  },
  {
   "cell_type": "code",
   "execution_count": 1,
   "metadata": {
    "collapsed": true,
    "pycharm": {
     "is_executing": false
    }
   },
   "outputs": [],
   "source": [
    "from matplotlib import pyplot"
   ]
  },
  {
   "cell_type": "markdown",
   "source": [
    "Der obere Befehl initialisiert den Namespace `pyplot`, sodass wir auf diesen in unserem Code zugreifen können. Dies ermöglicht uns, diverse Funktionen zum Erstellen und Visualisieren von Graphen auszuführen.\n",
    "\n",
    "Nun initialisieren wir die Werte, welche wir im Graphen darstellen wollen. Der Einfachheit halber werden nun einzelne Punkte hinterlegt. Hier können stattdessen auch komplexere Funktionen verwendet werden."
   ],
   "metadata": {
    "collapsed": false,
    "pycharm": {
     "name": "#%% md\n"
    }
   }
  },
  {
   "cell_type": "code",
   "execution_count": 9,
   "outputs": [],
   "source": [
    "x = [1, 2, 3, 4, 5, 6, 7, 8, 9, 10]\n",
    "y = [10, 9, 8, 7, 6, 5, 4, 3, 2, 1]"
   ],
   "metadata": {
    "collapsed": false,
    "pycharm": {
     "name": "#%%\n",
     "is_executing": false
    }
   }
  },
  {
   "cell_type": "markdown",
   "source": [
    "Nachdem die Werte im Speicher hinterlegt wurden, können diese nun an die Funktion zur Visualisierung übergeben werden. Hierfür initialisieren wir zunächst den Graphen anhand der Funktion `subplots()`.\n",
    "\n",
    "Diese Funktion liefert uns zwei Objekte zurück. Das erste Objekt ist eine `figure`, ein Bereich, in welchem Graphen gezeichnet werden können. Die `figure` umfasst den Bereich, in welchem allgemein gezeichnet werden darf. Das kann ein Fenster eines Programms sein, oder wie in diesem Notebook, ein Ausschnitt in einem Codeblock. In dieser `figure` befinden sich mehrere `axes`, welche die Koordinaten entgegennehmen, welche wir visualisieren wollen."
   ],
   "metadata": {
    "collapsed": false,
    "pycharm": {
     "name": "#%% md\n"
    }
   }
  },
  {
   "cell_type": "code",
   "execution_count": 10,
   "outputs": [
    {
     "data": {
      "text/plain": "[<matplotlib.lines.Line2D at 0x120feab90>]"
     },
     "metadata": {},
     "output_type": "execute_result",
     "execution_count": 10
    },
    {
     "data": {
      "text/plain": "<Figure size 432x288 with 1 Axes>",
      "image/png": "[encoded data removed]"
     },
     "metadata": {
      "needs_background": "light"
     },
     "output_type": "display_data"
    }
   ],
   "source": [
    "figure, axes = pyplot.subplots()\n",
    "axes.plot(x, y)"
   ],
   "metadata": {
    "collapsed": false,
    "pycharm": {
     "name": "#%%\n",
     "is_executing": false
    }
   }
  },
  {
   "cell_type": "markdown",
   "source": [
    "Alternativ können wir die Parameter auch direkt an Pyplot übergeben, sodass diese gezeichnet werden. Anhand der `show`-Funktion wird der Graph direkt visualisiert."
   ],
   "metadata": {
    "collapsed": false,
    "pycharm": {
     "name": "#%% md\n"
    }
   }
  },
  {
   "cell_type": "code",
   "execution_count": 14,
   "outputs": [
    {
     "data": {
      "text/plain": "<Figure size 432x288 with 1 Axes>",
      "image/png": "[encoded data removed]"
     },
     "metadata": {
      "needs_background": "light"
     },
     "output_type": "display_data"
    },
    {
     "data": {
      "text/plain": "<Figure size 432x288 with 1 Axes>",
      "image/png": "[encoded data removed]"
     },
     "metadata": {
      "needs_background": "light"
     },
     "output_type": "display_data"
    }
   ],
   "source": [
    "pyplot.plot(x, y)\n",
    "pyplot.show()\n",
    "pyplot.scatter(x, y)\n",
    "pyplot.show()"
   ],
   "metadata": {
    "collapsed": false,
    "pycharm": {
     "name": "#%%\n",
     "is_executing": false
    }
   }
  },
  {
   "cell_type": "markdown",
   "source": [
    "Des Weiteren bietet `matplotlib` die Möglichkeit, eine Menge von Knoten und Kanten visualisieren. Um dies zu bewerkstelligen, nutzen wir die Bibliothek `networkx`. Diese ermöglicht es uns, Knoten zu erstellen, und diese via Kanten miteinander zu verbinden.\n",
    "\n",
    "Zunächst importieren wir das Paket und initialisieren den Graphen."
   ],
   "metadata": {
    "collapsed": false,
    "pycharm": {
     "name": "#%% md\n"
    }
   }
  },
  {
   "cell_type": "code",
   "execution_count": 2,
   "outputs": [],
   "source": [
    "import networkx\n",
    "G = networkx.Graph()"
   ],
   "metadata": {
    "collapsed": false,
    "pycharm": {
     "name": "#%%\n",
     "is_executing": false
    }
   }
  },
  {
   "cell_type": "markdown",
   "source": [
    "Mit Hilfe der Funktion `add_node` können wir einzelne Knoten zu dem Graphen hinzufügen. Um diese identifizieren zu können, nummerieren wir diese durch. Des Weiteren können wir auch eine Liste von Punkten anhand der Funktion `add_nodes_from` hinzufügen."
   ],
   "metadata": {
    "collapsed": false,
    "pycharm": {
     "name": "#%% md\n"
    }
   }
  },
  {
   "cell_type": "code",
   "execution_count": 3,
   "outputs": [],
   "source": [
    "G.add_node(1)\n",
    "punkte = [2, 3, 4, 5]\n",
    "G.add_nodes_from(punkte)"
   ],
   "metadata": {
    "collapsed": false,
    "pycharm": {
     "name": "#%% \n",
     "is_executing": false
    }
   }
  },
  {
   "cell_type": "markdown",
   "source": [
    "Theoretisch können wir diesen Graphen bereits visualisiere, allerdings fehlen hier noch die Verbindungen zwischen den einzelnen Punkten; die Kanten. Diese fügen wir durch die Funktionen `add_edge` und `add_edges_from` hinzu.\n",
    "\n",
    "Die Elemente in der Liste `verbindungen` entsprechen dem Datentypen `tuple`."
   ],
   "metadata": {
    "collapsed": false,
    "pycharm": {
     "name": "#%% md\n"
    }
   }
  },
  {
   "cell_type": "code",
   "execution_count": 4,
   "outputs": [],
   "source": [
    "G.add_edge(1, 2)\n",
    "verbindungen = [(2, 3), (3, 5), (5, 4)]\n",
    "G.add_edges_from(verbindungen)"
   ],
   "metadata": {
    "collapsed": false,
    "pycharm": {
     "name": "#%%\n",
     "is_executing": false
    }
   }
  },
  {
   "cell_type": "markdown",
   "source": [
    "Nun befinden sich ausreichend Informationen in unserem Graphen, sodass wir diesen visualisieren können. Dies erledigen wir anhand der Funktion `draw` im `networkx` Namespace."
   ],
   "metadata": {
    "collapsed": false,
    "pycharm": {
     "name": "#%% md\n"
    }
   }
  },
  {
   "cell_type": "code",
   "execution_count": 6,
   "outputs": [
    {
     "data": {
      "text/plain": "<Figure size 432x288 with 1 Axes>",
      "image/png": "[encoded data removed]"
     },
     "metadata": {},
     "output_type": "display_data"
    }
   ],
   "source": [
    "networkx.draw(G, with_labels=True)"
   ],
   "metadata": {
    "collapsed": false,
    "pycharm": {
     "name": "#%%\n",
     "is_executing": false
    }
   }
  }
 ],
 "metadata": {
  "kernelspec": {
   "display_name": "Python 3",
   "language": "python",
   "name": "python3"
  },
  "language_info": {
   "codemirror_mode": {
    "name": "ipython",
    "version": 2
   },
   "file_extension": ".py",
   "mimetype": "text/x-python",
   "name": "python",
   "nbconvert_exporter": "python",
   "pygments_lexer": "ipython2",
   "version": "2.7.6"
  },
  "pycharm": {
   "stem_cell": {
    "cell_type": "raw",
    "source": [],
    "metadata": {
     "collapsed": false
    }
   }
  }
 },
 "nbformat": 4,
 "nbformat_minor": 0
}