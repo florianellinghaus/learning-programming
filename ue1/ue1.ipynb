{
 "cells": [
  {
   "cell_type": "markdown",
   "source": [
    "# Übung 1\n",
    "Herzlich Willkommen zur ersten Übung. Durch einen Klick auf den \"Run\"-Button in der Menüleiste kannst Du die einzelnen Zellen ausführen.\n",
    "\n",
    "Teste dies doch einfach mal anhand die nachfolgende Zelle, um eine Ausgabe zu generieren. Die nachfolgende Anweisung ist üblicherweise die erste, die man in einer neuen Sprache ausführt.\n",
    "\n",
    "Die Anweisung `print` ist eine Funktion, welche das Programm anweist, eine Ausgabe auf dem Bildschirm anzeigen zu lassen. Zwischen den Klammern werden die Parameter für die Ausgabe übergeben."
   ],
   "metadata": {
    "collapsed": false
   }
  },
  {
   "cell_type": "code",
   "execution_count": 1,
   "metadata": {
    "collapsed": true,
    "pycharm": {
     "is_executing": false
    }
   },
   "outputs": [
    {
     "name": "stdout",
     "text": [
      "Hallo, Welt!\n"
     ],
     "output_type": "stream"
    }
   ],
   "source": [
    "print(\"Hallo, Welt!\")"
   ]
  },
  {
   "cell_type": "markdown",
   "source": [
    "Nun bist Du an der Reihe. Ändere die nachfolgende Zelle, sodass anstatt der Ausgabe `42` die Ausgabe `Three-Two-One - Takeoff!` erscheint."
   ],
   "metadata": {
    "collapsed": false,
    "pycharm": {
     "name": "#%% md\n"
    }
   }
  },
  {
   "cell_type": "code",
   "execution_count": null,
   "outputs": [],
   "source": [
    "print(\"42\")"
   ],
   "metadata": {
    "collapsed": false,
    "pycharm": {
     "name": "#%%\n"
    }
   }
  },
  {
   "cell_type": "markdown",
   "source": [
    "Super! Nutze die nachfolgende Zelle nun, um einen Weihnachtsbaum, wie den nachfolgenden, ausgeben zu lassen.\n",
    "\n",
    "```\n",
    "      *\n",
    "     ***\n",
    "    *****\n",
    "   *******\n",
    "  *********\n",
    " ***********\n",
    "*************\n",
    "     ***\n",
    "```"
   ],
   "metadata": {
    "collapsed": false,
    "pycharm": {
     "name": "#%% md\n"
    }
   }
  },
  {
   "cell_type": "code",
   "execution_count": 2,
   "outputs": [
    {
     "name": "stdout",
     "text": [
      "Ich bin eine Ausgabe.\n",
      "Ich auch!\n"
     ],
     "output_type": "stream"
    }
   ],
   "source": [
    "print(\"Ich bin eine Ausgabe.\")\n",
    "print(\"Ich auch!\")"
   ],
   "metadata": {
    "collapsed": false,
    "pycharm": {
     "name": "#%%\n",
     "is_executing": false
    }
   }
  },
  {
   "cell_type": "markdown",
   "source": [
    "Neben grundlegender Ausgaben können wir Informationen im Arbeitsspeicher hinterlegen, sodass wir Ergebnisse zwischenspeichern und zu einem späteren Zeitpunkt wieder darauf zugreifen können.\n",
    "\n",
    "Die nachfolgende Zelle reserviert und initialisiert Speicher für die Variable `wort` vom Typ `str`. `str` ist in Python der Datentyp für Ketten von Buchstaben."
   ],
   "metadata": {
    "collapsed": false,
    "pycharm": {
     "name": "#%% md\n"
    }
   }
  },
  {
   "cell_type": "code",
   "execution_count": null,
   "outputs": [],
   "source": [
    "wort: str = \"Ich bin der Inhalt der Variable 'wort'.\""
   ],
   "metadata": {
    "collapsed": false,
    "pycharm": {
     "name": "#%%\n"
    }
   }
  },
  {
   "cell_type": "markdown",
   "source": [
    "Im nachfolgenden Kontext können wir auf diese Variable zugreifen und ihren Inhalt ausgeben. Versuche es in der nachfolgenden Zelle:"
   ],
   "metadata": {
    "collapsed": false,
    "pycharm": {
     "name": "#%% md\n"
    }
   }
  },
  {
   "cell_type": "code",
   "execution_count": null,
   "outputs": [],
   "source": [
    "print(wort)"
   ],
   "metadata": {
    "collapsed": false,
    "pycharm": {
     "name": "#%%\n"
    }
   }
  },
  {
   "cell_type": "markdown",
   "source": [
    "Des Weiteren können wir den Inhalt der Variable auch nachträglich ändern. ändere in der nachfolgenden Zelle den Inhalt der Variable, sodass dort dein Name steht:"
   ],
   "metadata": {
    "collapsed": false,
    "pycharm": {
     "name": "#%% md\n"
    }
   }
  },
  {
   "cell_type": "code",
   "execution_count": null,
   "outputs": [],
   "source": [
    "wort = \"\""
   ],
   "metadata": {
    "collapsed": false,
    "pycharm": {
     "name": "#%%\n"
    }
   }
  },
  {
   "cell_type": "markdown",
   "source": [
    "Gib nun erneut eine Ausgabe der Variable `wort` an. Nun sollte dein Name erscheinen."
   ],
   "metadata": {
    "collapsed": false,
    "pycharm": {
     "name": "#%% md\n"
    }
   }
  },
  {
   "cell_type": "code",
   "execution_count": null,
   "outputs": [],
   "source": [],
   "metadata": {
    "collapsed": false,
    "pycharm": {
     "name": "#%%\n"
    }
   }
  },
  {
   "cell_type": "markdown",
   "source": [
    "Neben Ausgaben von Inhalten und Zwischenspeichern von Ergebnissen können wir weiter auch arithmetische Operationen durchführen.\n",
    "\n",
    "Nachfolgend geben wir uns das Ergebnis einer simplen Addition aus:"
   ],
   "metadata": {
    "collapsed": false,
    "pycharm": {
     "name": "#%% md\n"
    }
   }
  },
  {
   "cell_type": "code",
   "execution_count": null,
   "outputs": [],
   "source": [
    "print(30 + 12)"
   ],
   "metadata": {
    "collapsed": false,
    "pycharm": {
     "name": "#%%\n"
    }
   }
  },
  {
   "cell_type": "markdown",
   "source": [
    "Nun bist du wieder an der Reihe: Gib in der nachfolgenden Zeile eine Subtraktion deiner Wahl aus, sodass in der Ausgabe das Ergebnis `12` erscheint."
   ],
   "metadata": {
    "collapsed": false,
    "pycharm": {
     "name": "#%% md\n"
    }
   }
  },
  {
   "cell_type": "code",
   "execution_count": null,
   "outputs": [],
   "source": [],
   "metadata": {
    "collapsed": false,
    "pycharm": {
     "name": "#%%\n"
    }
   }
  },
  {
   "cell_type": "markdown",
   "source": [
    "Ähnlich wie Zeichenketten lassen sich Zahlen und Ergebnisse arithmetischer Operationen zwischenspeichern, abrufen und verändern."
   ],
   "metadata": {
    "collapsed": false,
    "pycharm": {
     "name": "#%% md\n"
    }
   }
  },
  {
   "cell_type": "code",
   "execution_count": null,
   "outputs": [],
   "source": [
    "zahl: int = 5 - 1\n",
    "print(zahl)"
   ],
   "metadata": {
    "collapsed": false,
    "pycharm": {
     "name": "#%% \n"
    }
   }
  },
  {
   "cell_type": "markdown",
   "source": [
    "In einer anderen Variable referenzieren wir den Inhalt der Variable `zahl`. Passe die nachfolgende Zelle so an, dass ein negatives Ergebnis ausgegeben wird."
   ],
   "metadata": {
    "collapsed": false,
    "pycharm": {
     "name": "#%% md\n"
    }
   }
  },
  {
   "cell_type": "code",
   "execution_count": null,
   "outputs": [],
   "source": [
    "negatives_ergebnis: int = zahl - 3\n",
    "print(negatives_ergebnis)"
   ],
   "metadata": {
    "collapsed": false,
    "pycharm": {
     "name": "#%%\n"
    }
   }
  },
  {
   "cell_type": "markdown",
   "source": [
    "Neben Addition und Multiplikation gibt es eine Vielzahl weiterer arithmetischer Funktionen. Teste doch einmal die Multiplikation `*` und Division `/` in der folgenden Zelle.\n",
    "\n",
    "Der Typenbezeichner `float` steht hier für eine sogenannte Gleitkommazahl mit Nachkommastellen, wie sie in Ergebnissen von Divisionen üblich sein können."
   ],
   "metadata": {
    "collapsed": false,
    "pycharm": {
     "name": "#%% md\n"
    }
   }
  },
  {
   "cell_type": "code",
   "execution_count": null,
   "outputs": [],
   "source": [
    "multiplikation: int = 0\n",
    "division: float = 0.0\n",
    "print(multiplikation)\n",
    "print(division)"
   ],
   "metadata": {
    "collapsed": false,
    "pycharm": {
     "name": "#%%\n"
    }
   }
  }
 ],
 "metadata": {
  "kernelspec": {
   "display_name": "Python 3",
   "language": "python",
   "name": "python3"
  },
  "language_info": {
   "codemirror_mode": {
    "name": "ipython",
    "version": 2
   },
   "file_extension": ".py",
   "mimetype": "text/x-python",
   "name": "python",
   "nbconvert_exporter": "python",
   "pygments_lexer": "ipython2",
   "version": "2.7.6"
  },
  "pycharm": {
   "stem_cell": {
    "cell_type": "raw",
    "source": [],
    "metadata": {
     "collapsed": false
    }
   }
  }
 },
 "nbformat": 4,
 "nbformat_minor": 0
}