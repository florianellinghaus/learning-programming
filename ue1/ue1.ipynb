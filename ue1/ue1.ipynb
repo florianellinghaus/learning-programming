{
 "cells": [
  {
   "cell_type": "markdown",
   "source": [
    "# Übung 1\n",
    "Herzlich Willkommen zur ersten Übung. Durch einen Klick auf den \"Run\"-Button in der Menüleiste kannst Du die einzelnen Zellen ausführen.\n",
    "\n",
    "Teste dies doch einfach mal anhand die nachfolgende Zelle, um eine Ausgabe zu generieren. Die nachfolgende Anweisung ist üblicherweise die erste, die man in einer neuen Sprache ausführt."
   ],
   "metadata": {
    "collapsed": false
   }
  },
  {
   "cell_type": "code",
   "execution_count": 1,
   "metadata": {
    "collapsed": true,
    "pycharm": {
     "is_executing": false
    }
   },
   "outputs": [
    {
     "name": "stdout",
     "text": [
      "Hallo, Welt!\n"
     ],
     "output_type": "stream"
    }
   ],
   "source": [
    "print(\"Hallo, Welt!\")"
   ]
  },
  {
   "cell_type": "markdown",
   "source": [
    "Die Anweisung `print` ist eine Funktion, welche das Programm anweist, eine Ausgabe auf dem Bildschirm anzeigen zu lassen. Zwischen den Klammern werden die Parameter für die Ausgabe übergeben.\n",
    "\n",
    "Nun bist Du an der Reihe. Ändere die nachfolgende Zelle, sodass anstatt der Ausgabe `42` die Ausgabe `Three-Two-One - Takeoff!` erscheint."
   ],
   "metadata": {
    "collapsed": false,
    "pycharm": {
     "name": "#%% md\n"
    }
   }
  },
  {
   "cell_type": "code",
   "execution_count": null,
   "outputs": [],
   "source": [
    "# Ich bin ein hilfreicher Kommentar: Ändere in der nachfolgenden Zeile den Inhalt zwischen den Anführungszeichen \"\"\n",
    "print(\"42\")"
   ],
   "metadata": {
    "collapsed": false,
    "pycharm": {
     "name": "#%%\n"
    }
   }
  },
  {
   "cell_type": "markdown",
   "source": [
    "Zeilen, die mit einem `#`beginnen, sind in Python Kommentare. Sie dienen der Dokumentation von Quellcode und führen keine Logik aus.\n",
    "\n",
    "Nutze die nachfolgende Zelle nun, um einen Weihnachtsbaum, wie den nachfolgenden, ausgeben zu lassen.\n",
    "\n",
    "```\n",
    "      *\n",
    "     ***\n",
    "    *****\n",
    "   *******\n",
    "  *********\n",
    " ***********\n",
    "*************\n",
    "     ***\n",
    "```"
   ],
   "metadata": {
    "collapsed": false,
    "pycharm": {
     "name": "#%% md\n"
    }
   }
  },
  {
   "cell_type": "code",
   "execution_count": 2,
   "outputs": [
    {
     "name": "stdout",
     "text": [
      "Ich bin eine Ausgabe.\n",
      "Ich auch!\n"
     ],
     "output_type": "stream"
    }
   ],
   "source": [
    "print(\"Ich bin eine Ausgabe.\")\n",
    "print(\"Ich auch!\")"
   ],
   "metadata": {
    "collapsed": false,
    "pycharm": {
     "name": "#%%\n",
     "is_executing": false
    }
   }
  },
  {
   "cell_type": "markdown",
   "source": [
    "Neben grundlegender Ausgaben können wir Informationen im Arbeitsspeicher hinterlegen, sodass wir Ergebnisse zwischenspeichern und zu einem späteren Zeitpunkt wieder darauf zugreifen können.\n",
    "\n",
    "Die nachfolgende Zelle reserviert und initialisiert Speicher für die Variable `wort` vom Typ `str`. `str` ist in Python der Datentyp für Ketten von Buchstaben."
   ],
   "metadata": {
    "collapsed": false,
    "pycharm": {
     "name": "#%% md\n"
    }
   }
  },
  {
   "cell_type": "code",
   "execution_count": null,
   "outputs": [],
   "source": [
    "wort: str = \"Ich bin der Inhalt der Variable 'wort'.\""
   ],
   "metadata": {
    "collapsed": false,
    "pycharm": {
     "name": "#%%\n"
    }
   }
  },
  {
   "cell_type": "markdown",
   "source": [
    "Im nachfolgenden Kontext können wir auf diese Variable zugreifen und ihren Inhalt ausgeben. Versuche es in der nachfolgenden Zelle:"
   ],
   "metadata": {
    "collapsed": false,
    "pycharm": {
     "name": "#%% md\n"
    }
   }
  },
  {
   "cell_type": "code",
   "execution_count": null,
   "outputs": [],
   "source": [
    "print(wort)"
   ],
   "metadata": {
    "collapsed": false,
    "pycharm": {
     "name": "#%%\n"
    }
   }
  },
  {
   "cell_type": "markdown",
   "source": [
    "Hier fällt auf, dass im Gegensatz zu vorigen Ausgaben keine Anführungszeichen `\"\"` vorhanden sind. Diese werden immer dann angegeben, wenn einzelne Zeichen oder Zeichenketten verwendet werden.\n",
    "\n",
    "Des Weiteren können wir den Inhalt der Variable auch nachträglich ändern. Passe in der nachfolgenden Zelle den Inhalt der Variable an, sodass dort dein Name steht:"
   ],
   "metadata": {
    "collapsed": false,
    "pycharm": {
     "name": "#%% md\n"
    }
   }
  },
  {
   "cell_type": "code",
   "execution_count": null,
   "outputs": [],
   "source": [
    "wort = \"Name\""
   ],
   "metadata": {
    "collapsed": false,
    "pycharm": {
     "name": "#%%\n"
    }
   }
  },
  {
   "cell_type": "markdown",
   "source": [
    "Gib in der folgenden Zelle nun erneut eine Ausgabe der Variable `wort` an. Hier sollte dein hinterlegter Name ausgegeben werden."
   ],
   "metadata": {
    "collapsed": false,
    "pycharm": {
     "name": "#%% md\n"
    }
   }
  },
  {
   "cell_type": "code",
   "execution_count": null,
   "outputs": [],
   "source": [],
   "metadata": {
    "collapsed": false,
    "pycharm": {
     "name": "#%%\n"
    }
   }
  },
  {
   "cell_type": "markdown",
   "source": [
    "Neben Ausgaben von Inhalten und Zwischenspeichern von Ergebnissen können wir weiter auch arithmetische Operationen durchführen.\n",
    "\n",
    "Nachfolgend geben wir uns das Ergebnis einer simplen Addition aus:"
   ],
   "metadata": {
    "collapsed": false,
    "pycharm": {
     "name": "#%% md\n"
    }
   }
  },
  {
   "cell_type": "code",
   "execution_count": null,
   "outputs": [],
   "source": [
    "print(30 + 12)"
   ],
   "metadata": {
    "collapsed": false,
    "pycharm": {
     "name": "#%%\n"
    }
   }
  },
  {
   "cell_type": "markdown",
   "source": [
    "Nun bist du wieder an der Reihe: Gib in der nachfolgenden Zeile eine Subtraktion deiner Wahl aus, sodass in der Ausgabe das Ergebnis `12` erscheint."
   ],
   "metadata": {
    "collapsed": false,
    "pycharm": {
     "name": "#%% md\n"
    }
   }
  },
  {
   "cell_type": "code",
   "execution_count": null,
   "outputs": [],
   "source": [],
   "metadata": {
    "collapsed": false,
    "pycharm": {
     "name": "#%%\n"
    }
   }
  },
  {
   "cell_type": "markdown",
   "source": [
    "Ähnlich wie Zeichenketten lassen sich Zahlen und Ergebnisse arithmetischer Operationen zwischenspeichern, abrufen und verändern."
   ],
   "metadata": {
    "collapsed": false,
    "pycharm": {
     "name": "#%% md\n"
    }
   }
  },
  {
   "cell_type": "code",
   "execution_count": null,
   "outputs": [],
   "source": [
    "zahl: int = 5 - 1\n",
    "print(zahl)"
   ],
   "metadata": {
    "collapsed": false,
    "pycharm": {
     "name": "#%% \n"
    }
   }
  },
  {
   "cell_type": "markdown",
   "source": [
    "In einer anderen Variable referenzieren wir den Inhalt der Variable `zahl`. Passe die nachfolgende Zelle so an, dass ein negatives Ergebnis ausgegeben wird."
   ],
   "metadata": {
    "collapsed": false,
    "pycharm": {
     "name": "#%% md\n"
    }
   }
  },
  {
   "cell_type": "code",
   "execution_count": null,
   "outputs": [],
   "source": [
    "negatives_ergebnis: int = zahl - 3\n",
    "print(negatives_ergebnis)"
   ],
   "metadata": {
    "collapsed": false,
    "pycharm": {
     "name": "#%%\n"
    }
   }
  },
  {
   "cell_type": "markdown",
   "source": [
    "Neben Addition und Multiplikation gibt es eine Vielzahl weiterer arithmetischer Funktionen. Teste doch einmal die Multiplikation `*` und Division `/` in der folgenden Zelle.\n",
    "\n",
    "Der Typenbezeichner `float` steht hier für eine sogenannte Gleitkommazahl mit Nachkommastellen, wie sie in Ergebnissen von Divisionen üblich sein können."
   ],
   "metadata": {
    "collapsed": false,
    "pycharm": {
     "name": "#%% md\n"
    }
   }
  },
  {
   "cell_type": "code",
   "execution_count": null,
   "outputs": [],
   "source": [
    "multiplikation: int = 0\n",
    "division: float = 0.0\n",
    "print(multiplikation)\n",
    "print(division)"
   ],
   "metadata": {
    "collapsed": false,
    "pycharm": {
     "name": "#%%\n"
    }
   }
  },
  {
   "cell_type": "markdown",
   "source": [
    "Wir haben nun erfolgreich Variablen und arithmetische Operationen kennengelernt. Als Nächstes lernen wir Funktionen näher kennen.\n",
    "\n",
    "Als Beispiel dient hier die `print`-Funktion, welche als Argument, bzw. Parameter, eine Zeichenkette oder Zahlen annehmen kann, um eine Ausgabe auf unserem Bildschirm zu erzeugen.\n",
    "\n",
    "Wir erzeugen nun eine weitere Funktion, welche eine Zahl entgegennimmt und diese ausgibt."
   ],
   "metadata": {
    "collapsed": false,
    "pycharm": {
     "name": "#%% md\n"
    }
   }
  },
  {
   "cell_type": "code",
   "execution_count": 2,
   "outputs": [
    {
     "name": "stdout",
     "text": [
      "Folgende Zahl wurde übergeben: 1\n",
      "None\n"
     ],
     "output_type": "stream"
    }
   ],
   "source": [
    "def gebe_zahl_aus(zahl: int):\n",
    "    print(f\"Folgende Zahl wurde dieser Funktion übergeben: {zahl}\")"
   ],
   "metadata": {
    "collapsed": false,
    "pycharm": {
     "name": "#%%\n",
     "is_executing": false
    }
   }
  },
  {
   "cell_type": "markdown",
   "source": [
    "Das `f` vor dem Anführungszeichen legt fest, dass in dieser Zeichenkette eine Variable ausgelesen wird. Dies erkennen wir an der geschweiften Klammer um die Variable `zahl`.\n",
    "\n",
    "Führe in der nachfolgenden Zelle die Funktion `gebe_zahl_aus` mit einem sinnvollen Parameter aus. Zwischen den Klammern `()` müssen wir eine gültige, ganze Zahl hinterlegen."
   ],
   "metadata": {
    "collapsed": false,
    "pycharm": {
     "name": "#%% md\n"
    }
   }
  },
  {
   "cell_type": "code",
   "execution_count": null,
   "outputs": [],
   "source": [
    "gebe_zahl_aus()"
   ],
   "metadata": {
    "collapsed": false,
    "pycharm": {
     "name": "#%%\n"
    }
   }
  },
  {
   "cell_type": "markdown",
   "source": [
    "Nun haben wir alle Kenntnisse um unser erstes Programm zu schreiben. In der finalen Aufgabenstellung soll mit Hilfe der Widmark-Formel die Blutalkoholkonzentration geschätzt werden. Diese lautet wie folgt:\n",
    "\n",
    "`c = A / m * r`\n",
    "\n",
    "- `c`: Alkoholkonzentration im Blut in [g/kg]\n",
    "- `A`: Aufgenommene Masse des Alkohols in [g]\n",
    "- `r`: Verteilungsfaktor im Körper –Männer: `r` ≈ 0,7 – Frauen: `r` ≈ 0,6\n",
    "- `m`: Masse der Person in [kg]\n",
    "\n",
    "Die Alkoholmasse `A` wird folgendermaßen berechnet:\n",
    "\n",
    "`A = e * p * v`\n",
    "\n",
    "- `V`: Volumen des Getränks in [ml]\n",
    "- `e`: Alkoholvolumenanteil in [%] (z. B. Bier ≈ 0,05)\n",
    "- `p`: Dichte von Alkohol [g/ml] -> `p` ≈ 0,8g/ml“\n",
    "\n",
    "Nutze die nachfolgende Zelle um die Alkoholkonzentration im Blut nach einem Liter Bier mit einem Alkoholgehalt von 4,8 Promille zu berechnen. Gib das Ergebnis via `print` aus."
   ],
   "metadata": {
    "collapsed": false,
    "pycharm": {
     "name": "#%% md\n"
    }
   }
  },
  {
   "cell_type": "code",
   "execution_count": null,
   "outputs": [],
   "source": [],
   "metadata": {
    "collapsed": false,
    "pycharm": {
     "name": "#%%\n"
    }
   }
  }
 ],
 "metadata": {
  "kernelspec": {
   "display_name": "Python 3",
   "language": "python",
   "name": "python3"
  },
  "language_info": {
   "codemirror_mode": {
    "name": "ipython",
    "version": 2
   },
   "file_extension": ".py",
   "mimetype": "text/x-python",
   "name": "python",
   "nbconvert_exporter": "python",
   "pygments_lexer": "ipython2",
   "version": "2.7.6"
  },
  "pycharm": {
   "stem_cell": {
    "cell_type": "raw",
    "source": [],
    "metadata": {
     "collapsed": false
    }
   }
  }
 },
 "nbformat": 4,
 "nbformat_minor": 0
}